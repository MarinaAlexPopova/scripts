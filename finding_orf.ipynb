{
 "cells": [
  {
   "cell_type": "markdown",
   "id": "ed5d92f1",
   "metadata": {},
   "source": [
    "1) stop_c after start_c  \n",
    "2) len(seq)%3 == 0   => (stop_c - start_c) % 3 == 0  \n",
    "3) length_threshold = 10aa => 30n  \n",
    "4) save all ORF in the case of nested ORF  \n",
    "5) find Promoter before start + Terminator after step  "
   ]
  },
  {
   "cell_type": "code",
   "execution_count": 2,
   "id": "57424df5",
   "metadata": {},
   "outputs": [],
   "source": [
    "genome = './ecoli/ecoli_10k.fasta' #path to the file\n",
    "\n",
    "#read the file\n",
    "with open(genome) as f:\n",
    "    first_line = f.readline()\n",
    "    lines = f.read().split('\\n')\n",
    "lines = ''.join(lines)\n",
    "\n",
    "#function for extracting kmers from the sequence\n",
    "def build_kmers(sequence, ksize):\n",
    "    kmers = []\n",
    "    n_kmers = len(sequence) - ksize + 1 \n",
    "    for i in range(n_kmers):\n",
    "        kmer = sequence[i:i + ksize]\n",
    "        kmers.append(kmer)\n",
    "    return kmers\n",
    "\n",
    "# extracting kmers\n",
    "all_kmers = build_kmers(lines, 3)\n",
    "\n",
    "#finding orfs\n",
    "orf = []\n",
    "start = None\n",
    "start_codon = 'ATG'\n",
    "stop_codons = ['TAG', 'TGA', 'TAA']\n",
    "\n",
    "for i, kmer in enumerate(all_kmers):\n",
    "    if start:\n",
    "        if kmer in stop_codons:\n",
    "            if (start_ind - i)%3 == 0 and (i+3 - start_ind) > 60:\n",
    "                stop_ind = i+3\n",
    "                orf.append([start_ind, stop_ind])\n",
    "                start = None\n",
    "    else:\n",
    "        if kmer == start_codon:\n",
    "            start = True\n",
    "            start_ind = i\n",
    "\n",
    "#saving to the file            \n",
    "with open('./ecoli/genes_ecoli.fasta', 'w') as file:\n",
    "    i = 1\n",
    "    for start, end in orf:\n",
    "        file.write(f'gene # {i} {lines[start:end]}\\n')\n",
    "        i += 1"
   ]
  },
  {
   "cell_type": "code",
   "execution_count": null,
   "id": "7439aa59",
   "metadata": {},
   "outputs": [],
   "source": []
  }
 ],
 "metadata": {
  "kernelspec": {
   "display_name": "Python 3",
   "language": "python",
   "name": "python3"
  },
  "language_info": {
   "codemirror_mode": {
    "name": "ipython",
    "version": 3
   },
   "file_extension": ".py",
   "mimetype": "text/x-python",
   "name": "python",
   "nbconvert_exporter": "python",
   "pygments_lexer": "ipython3",
   "version": "3.8.8"
  }
 },
 "nbformat": 4,
 "nbformat_minor": 5
}
